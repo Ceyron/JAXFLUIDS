{
 "cells": [
  {
   "cell_type": "markdown",
   "id": "6c628043",
   "metadata": {},
   "source": [
    "# JAX-Fluids: Bow shock demo\n",
    "This demo will demonstrate how you can run a 2D simulation with JAX-Fluids. Here, we simulate a bow shock at Mach 20."
   ]
  },
  {
   "cell_type": "code",
   "execution_count": 10,
   "id": "6c582ab9",
   "metadata": {},
   "outputs": [],
   "source": [
    "import numpy as np\n",
    "from jaxfluids import InputReader, Initializer, SimulationManager\n",
    "from jaxfluids.post_process import load_data, create_contourplot"
   ]
  },
  {
   "cell_type": "markdown",
   "id": "7bd5e387",
   "metadata": {},
   "source": [
    "## Simulation Setup\n",
    "To run a forward simulation with JAX-Fluids, you need an InputRead, an Initializer, and a SimulationManager."
   ]
  },
  {
   "cell_type": "markdown",
   "id": "b09a12b0",
   "metadata": {},
   "source": [
    "The InputReader reads a case setup file (here, \"02_case_setup_bowshock.json\") and a numerical setup file (here, \"02_numerical_setup_bowshock.json\"). The case setup specifies the physical setup of your simulation and the numerical setup specifies with which numerical methods you want to run your simulation."
   ]
  },
  {
   "cell_type": "code",
   "execution_count": 2,
   "id": "9845f7d5",
   "metadata": {},
   "outputs": [
    {
     "name": "stderr",
     "output_type": "stream",
     "text": [
      "WARNING:absl:No GPU/TPU found, falling back to CPU. (Set TF_CPP_MIN_LOG_LEVEL=0 and rerun for more info.)\n"
     ]
    }
   ],
   "source": [
    "input_reader = InputReader(\"02_case_setup_bowshock.json\", \"02_numerical_setup_bowshock.json\")\n",
    "initializer  = Initializer(input_reader)\n",
    "sim_manager  = SimulationManager(input_reader)"
   ]
  },
  {
   "cell_type": "markdown",
   "id": "b2fb3f77",
   "metadata": {},
   "source": [
    "## Run Simulation\n",
    "The Initializer creates a dictionary which contains all initial flow fields. The SimulationManager runs the simulation and writes h5 output files."
   ]
  },
  {
   "cell_type": "code",
   "execution_count": null,
   "id": "cf7c8231",
   "metadata": {},
   "outputs": [
    {
     "name": "stderr",
     "output_type": "stream",
     "text": [
      "*------------------------------------------------------------------------------*\n",
      "*                                                                              *\n",
      "*                                                                              *\n",
      "*          _     _    __  __        _____  _      _   _  ___  ____   ____      *\n",
      "*         | |   / \\   \\ \\/ /       |  ___|| |    | | | ||_ _||  _ \\ / ___|     *\n",
      "*      _  | |  / _ \\   \\  /  _____ | |_   | |    | | | | | | | | | |\\___ \\     *\n",
      "*     | |_| | / ___ \\  /  \\ |_____||  _|  | |___ | |_| | | | | |_| | ___) |    *\n",
      "*      \\___/ /_/   \\_\\/_/\\_\\       |_|    |_____| \\___/ |___||____/ |____/     *\n",
      "*                                                                              *\n",
      "*                                By BB - ML@AER                                *\n",
      "*                                                                              *\n",
      "*------------------------------------------------------------------------------*\n",
      "* JAX-FLUIDS -                                                                 *\n",
      "*                                                                              *\n",
      "* A fully-differentiable CFD solver for compressible two-phase flows.          *\n",
      "* Copyright (C) 2022  Deniz A. Bezgin, Aaron B. Buhendwa, Nikolaus A. Adams    *\n",
      "*                                                                              *\n",
      "* This program is free software: you can redistribute it and/or modify         *\n",
      "* it under the terms of the GNU General Public License as published by         *\n",
      "* the Free Software Foundation, either version 3 of the License, or            *\n",
      "* (at your option) any later version.                                          *\n",
      "*                                                                              *\n",
      "* This program is distributed in the hope that it will be useful,              *\n",
      "* but WITHOUT ANY WARRANTY; without even the implied warranty of               *\n",
      "* MERCHANTABILITY or FITNESS FOR A PARTICULAR PURPOSE.  See the                *\n",
      "* GNU General Public License for more details.                                 *\n",
      "*                                                                              *\n",
      "* You should have received a copy of the GNU General Public License            *\n",
      "* along with this program.  If not, see <https://www.gnu.org/licenses/>.       *\n",
      "*                                                                              *\n",
      "*------------------------------------------------------------------------------*\n",
      "*                                                                              *\n",
      "* CONTACT                                                                      *\n",
      "*                                                                              *\n",
      "* deniz.bezgin@tum.de // aaron.buhendwa@tum.de // nikolaus.adams@tum.de        *\n",
      "*                                                                              *\n",
      "*------------------------------------------------------------------------------*\n",
      "*                                                                              *\n",
      "* Munich, April 15th, 2022                                                     *\n",
      "*                                                                              *\n",
      "*------------------------------------------------------------------------------*\n",
      "*                                                                              *\n",
      "*                                                                              *\n",
      "*                               NUMERICAL SETUP                                *\n",
      "*                                                                              *\n",
      "*    CONSERVATIVES                                                             *\n",
      "*        HALO CELLS                   :    5                                   *\n",
      "*        TIME INTEGRATION                                                      *\n",
      "*          INTEGRATOR                 :    RK3                                 *\n",
      "*          CFL                        :    0.8                                 *\n",
      "*        CONVECTIVE FLUXES                                                     *\n",
      "*          CONVECTIVE SOLVER          :    GODUNOV                             *\n",
      "*          RIEMANN SOLVER             :    HLLC                                *\n",
      "*          SIGNAL SPEED               :    EINFELDT                            *\n",
      "*          SPATIAL RECONSTRUCTOR      :    WENO5-JS                            *\n",
      "*          IS SAFE RECONSTRUCTION     :    True                                *\n",
      "*          RECONSTRUCTION VAR         :    PRIMITIVE                           *\n",
      "*        DISSIPATIVE FLUXES                                                    *\n",
      "*          RECONSTRUCTION STENCIL     :    R4                                  *\n",
      "*          DERIVATIVE STENCIL CENTER  :    DC4                                 *\n",
      "*          DERIVATIVE STENCIL FACE    :    DF4                                 *\n",
      "*                                                                              *\n",
      "*    LEVELSET                                                                  *\n",
      "*        INTERFACE INTERACTION        :    FLUID-SOLID-STATIC                  *\n",
      "*        HALO CELLS                   :    3                                   *\n",
      "*        GEOMETRY CALCULATOR STENCIL  :    DC4                                 *\n",
      "*        LEVELSET ADVECTION STENCIL   :    HOUC5                               *\n",
      "*        SUBCELL RECONSTRUCTION       :    True                                *\n",
      "*        NARROW BAND CUTOFF           :    10                                  *\n",
      "*        NARROW BAND COMPUTATIONS     :    5                                   *\n",
      "*        VOLUME FRACTION THRESHOLD    :    0.6                                 *\n",
      "*        EXTENSION                                                             *\n",
      "*          TIME INTEGRATOR            :    EULER                               *\n",
      "*          SPATIAL STENCIL            :    FIRSTORDER                          *\n",
      "*          STEPS PRIMES               :    30                                  *\n",
      "*          CFL PRIMES                 :    0.7                                 *\n",
      "*          STEPS INTERFACE            :    30                                  *\n",
      "*          CFL INTERFACE              :    0.7                                 *\n",
      "*        REINITIALIZATION                                                      *\n",
      "*          TIME INTEGRATOR            :    RK2                                 *\n",
      "*          SPATIAL STENCIL            :    WENO3DERIV                          *\n",
      "*          CFL                        :    0.5                                 *\n",
      "*          INTERVAL                   :    1                                   *\n",
      "*          STEPS                      :    1                                   *\n",
      "*          CUT CELL                   :    False                               *\n",
      "*          TIME INTEGRATOR INIT       :    EULER                               *\n",
      "*          SPATIAL STENCIL INIT       :    FIRSTORDERSUBCELL                   *\n",
      "*          STEPS INIT                 :    0                                   *\n",
      "*          CFL INIT                   :    0.5                                 *\n",
      "*                                                                              *\n",
      "*    ACTIVE PHYSICS                                                            *\n",
      "*        IS CONVECTIVE FLUX           :    True                                *\n",
      "*        IS VISCOUS FLUX              :    False                               *\n",
      "*        IS HEAT FLUX                 :    False                               *\n",
      "*        IS VOLUME FORCE              :    False                               *\n",
      "*        IS SURFACE TENSION           :    False                               *\n",
      "*                                                                              *\n",
      "*    ACTIVE FORCINGS                                                           *\n",
      "*        IS MASS FLOW FORCING         :    False                               *\n",
      "*        IS TEMPERATURE FORCING       :    False                               *\n",
      "*        IS TURB HIT FORCING          :    False                               *\n",
      "*                                                                              *\n"
     ]
    },
    {
     "name": "stderr",
     "output_type": "stream",
     "text": [
      "*    OUTPUT                                                                    *\n",
      "*        IS DOUBLE PRECISION COMPUTE  :    False                               *\n",
      "*        IS DOUBLE PRECISION OUTPUT   :    False                               *\n",
      "*        DERIVATIVE STENCIL           :    DC4                                 *\n",
      "*        QUANTITIES                                                            *\n",
      "*          PRIMES                     :    ['density', 'velocityX', 'velocityY', 'pressure', 'temperature']*\n",
      "*          LEVELSET                   :    ['mask_real', 'levelset']           *\n",
      "*          MISCELLANEOUS              :    ['schlieren', 'mach_number']        *\n",
      "*        LOGGING                      :    INFO                                *\n",
      "*        IS XDMF                      :    False                               *\n",
      "*                                                                              *\n",
      "*                                                                              *\n",
      "*------------------------------------------------------------------------------*\n",
      "*                                                                              *\n",
      "*                                  CASE SETUP                                  *\n",
      "*                                                                              *\n",
      "*    GENERAL                                                                   *\n",
      "*        CASE NAME                    :    bowshock                            *\n",
      "*        END TIME                     :    0.1                                 *\n",
      "*        SAVE PATH                    :    ./results                           *\n",
      "*        SAVE DT                      :    0.01                                *\n",
      "*                                                                              *\n",
      "*    DOMAIN                                                                    *\n",
      "*        X                                                                     *\n",
      "*          CELLS                      :    60                                  *\n",
      "*          RANGE                      :    [-0.3, 0.0]                         *\n",
      "*        Y                                                                     *\n",
      "*          CELLS                      :    160                                 *\n",
      "*          RANGE                      :    [-0.4, 0.4]                         *\n",
      "*        Z                                                                     *\n",
      "*          CELLS                      :    1                                   *\n",
      "*          RANGE                      :    [0.0, 1.0]                          *\n",
      "*                                                                              *\n",
      "*    BOUNDARY CONDITION                                                        *\n",
      "*        TYPES                                                                 *\n",
      "*          PRIMES                     :    {'EAST': 'neumann', 'WEST': 'dirichlet', 'NORTH': 'neumann', 'SOUTH': 'neumann', 'TOP': 'inactive', 'BOTTOM': 'inactive'}*\n",
      "*          LEVELSET                   :    {'EAST': 'symmetry', 'WEST': 'neumann', 'NORTH': 'neumann', 'SOUTH': 'neumann', 'TOP': 'inactive', 'BOTTOM': 'inactive'}*\n",
      "*        DIRICHLET FUNCTIONS                                                   *\n",
      "*          WEST                       :    {'RHO': 1.0, 'U': 23.664319132398465, 'V': 0.0, 'W': 0.0, 'P': 1.0}*\n",
      "*                                                                              *\n",
      "*    INITIAL CONDITION                                                         *\n",
      "*        PRIMES                                                                *\n",
      "*          RHO                        :    1.0                                 *\n",
      "*          U                          :    23.664319132398465                  *\n",
      "*          V                          :    0.0                                 *\n",
      "*          W                          :    0.0                                 *\n",
      "*          P                          :    1.0                                 *\n",
      "*        LEVELSET                     :    lambda x, y:  - 0.1 + jnp.sqrt((x)**2 + (y)**2)*\n",
      "*                                                                              *\n",
      "*    MATERIAL PROPERTIES                                                       *\n",
      "*        TYPE                         :    IdealGas                            *\n",
      "*        DYNAMIC VISCOSITY            :    0.0001                              *\n",
      "*        BULK VISCOSITY               :    0.0                                 *\n",
      "*        THERMAL CONDUCTIVITY         :    0.0                                 *\n",
      "*        SPECIFIC HEAT RATIO          :    1.4                                 *\n",
      "*        SPECIFIC GAS CONSTANT        :    0.7142857142857143                  *\n",
      "*                                                                              *\n",
      "*    NONDIMENSIONALIZATION PARAMETERS                                          *\n",
      "*        DENSITY REFERENCE            :    1.0                                 *\n",
      "*        LENGTH REFERENCE             :    1.0                                 *\n",
      "*        VELOCITY REFERENCE           :    1.0                                 *\n",
      "*        TEMPERATURE REFERENCE        :    1.0                                 *\n",
      "*                                                                              *\n",
      "*                                                                              *\n",
      "*------------------------------------------------------------------------------*\n",
      "*                                                                              *\n",
      "*                                                                              *\n",
      "*          _     _    __  __        _____  _      _   _  ___  ____   ____      *\n",
      "*         | |   / \\   \\ \\/ /       |  ___|| |    | | | ||_ _||  _ \\ / ___|     *\n",
      "*      _  | |  / _ \\   \\  /  _____ | |_   | |    | | | | | | | | | |\\___ \\     *\n",
      "*     | |_| | / ___ \\  /  \\ |_____||  _|  | |___ | |_| | | | | |_| | ___) |    *\n",
      "*      \\___/ /_/   \\_\\/_/\\_\\       |_|    |_____| \\___/ |___||____/ |____/     *\n",
      "*                                                                              *\n",
      "*                                                                              *\n",
      "*------------------------------------------------------------------------------*\n"
     ]
    }
   ],
   "source": [
    "buffer_dictionary = initializer.initialization()\n",
    "sim_manager.simulate(buffer_dictionary)"
   ]
  },
  {
   "cell_type": "markdown",
   "id": "9c99c035",
   "metadata": {},
   "source": [
    "## Load Data\n",
    "JAX-Fluids offers post-processing tools for visualizing your simulation data. You can find them under jaxfluids.post_process."
   ]
  },
  {
   "cell_type": "code",
   "execution_count": 11,
   "id": "e818e4e2",
   "metadata": {},
   "outputs": [
    {
     "name": "stdout",
     "output_type": "stream",
     "text": [
      "Loading time snapshot 0.0000e+00\n",
      "Loading time snapshot 1.0076e-02\n",
      "Loading time snapshot 2.0001e-02\n",
      "Loading time snapshot 3.0076e-02\n",
      "Loading time snapshot 4.0020e-02\n",
      "Loading time snapshot 5.0008e-02\n",
      "Loading time snapshot 6.0046e-02\n",
      "Loading time snapshot 7.0039e-02\n",
      "Loading time snapshot 8.0044e-02\n",
      "Loading time snapshot 9.0008e-02\n",
      "Loading time snapshot 1.0001e-01\n"
     ]
    }
   ],
   "source": [
    "path = sim_manager.output_writer.save_path_domain\n",
    "path = \"results/bowshock-1/domain\"\n",
    "quantities = [\"density\", \"schlieren\", \"mach_number\", \"levelset\", \"mask_real\"]\n",
    "cell_centers, cell_sizes, times, data_dict = load_data(path, quantities)"
   ]
  },
  {
   "cell_type": "markdown",
   "id": "fe42afa1",
   "metadata": {},
   "source": [
    "## Visualize Data"
   ]
  },
  {
   "cell_type": "code",
   "execution_count": 12,
   "id": "e3e01ceb",
   "metadata": {},
   "outputs": [
    {
     "ename": "TypeError",
     "evalue": "create_contourplot() got an unexpected keyword argument 'end_time'",
     "output_type": "error",
     "traceback": [
      "\u001b[0;31m---------------------------------------------------------------------------\u001b[0m",
      "\u001b[0;31mTypeError\u001b[0m                                 Traceback (most recent call last)",
      "Input \u001b[0;32mIn [12]\u001b[0m, in \u001b[0;36m<cell line: 6>\u001b[0;34m()\u001b[0m\n\u001b[1;32m      1\u001b[0m nrows_ncols \u001b[38;5;241m=\u001b[39m (\u001b[38;5;241m1\u001b[39m,\u001b[38;5;241m2\u001b[39m)\n\u001b[1;32m      2\u001b[0m plot_dict \u001b[38;5;241m=\u001b[39m {\n\u001b[1;32m      3\u001b[0m     \u001b[38;5;124m\"\u001b[39m\u001b[38;5;124mdensity\u001b[39m\u001b[38;5;124m\"\u001b[39m    : data_dict[\u001b[38;5;124m\"\u001b[39m\u001b[38;5;124mdensity\u001b[39m\u001b[38;5;124m\"\u001b[39m],\n\u001b[1;32m      4\u001b[0m     \u001b[38;5;124m\"\u001b[39m\u001b[38;5;124mmach_number\u001b[39m\u001b[38;5;124m\"\u001b[39m: np\u001b[38;5;241m.\u001b[39mclip(data_dict[\u001b[38;5;124m\"\u001b[39m\u001b[38;5;124mmach_number\u001b[39m\u001b[38;5;124m\"\u001b[39m] \u001b[38;5;241m*\u001b[39m data_dict[\u001b[38;5;124m\"\u001b[39m\u001b[38;5;124mmask_real\u001b[39m\u001b[38;5;124m\"\u001b[39m], \u001b[38;5;241m0.0\u001b[39m, \u001b[38;5;241m3.0\u001b[39m),\n\u001b[1;32m      5\u001b[0m     \u001b[38;5;124m\"\u001b[39m\u001b[38;5;124mschlieren\u001b[39m\u001b[38;5;124m\"\u001b[39m  : np\u001b[38;5;241m.\u001b[39mclip(data_dict[\u001b[38;5;124m\"\u001b[39m\u001b[38;5;124mschlieren\u001b[39m\u001b[38;5;124m\"\u001b[39m] \u001b[38;5;241m*\u001b[39m data_dict[\u001b[38;5;124m\"\u001b[39m\u001b[38;5;124mmask_real\u001b[39m\u001b[38;5;124m\"\u001b[39m], \u001b[38;5;241m1e0\u001b[39m, \u001b[38;5;241m5e2\u001b[39m)}\n\u001b[0;32m----> 6\u001b[0m \u001b[43mcreate_contourplot\u001b[49m\u001b[43m(\u001b[49m\u001b[43mplot_dict\u001b[49m\u001b[43m,\u001b[49m\u001b[43m \u001b[49m\u001b[43mcell_centers\u001b[49m\u001b[43m,\u001b[49m\u001b[43m \u001b[49m\u001b[43mtimes\u001b[49m\u001b[43m,\u001b[49m\u001b[43m \u001b[49m\u001b[43mnrows_ncols\u001b[49m\u001b[38;5;241;43m=\u001b[39;49m\u001b[43mnrows_ncols\u001b[49m\u001b[43m,\u001b[49m\u001b[43m \u001b[49m\u001b[43mplane\u001b[49m\u001b[38;5;241;43m=\u001b[39;49m\u001b[38;5;124;43m\"\u001b[39;49m\u001b[38;5;124;43mxy\u001b[39;49m\u001b[38;5;124;43m\"\u001b[39;49m\u001b[43m,\u001b[49m\u001b[43m \u001b[49m\u001b[43minterval\u001b[49m\u001b[38;5;241;43m=\u001b[39;49m\u001b[38;5;241;43m100\u001b[39;49m\u001b[43m,\u001b[49m\u001b[43m \u001b[49m\u001b[43mend_time\u001b[49m\u001b[38;5;241;43m=\u001b[39;49m\u001b[38;5;241;43m0.01\u001b[39;49m\u001b[43m)\u001b[49m\n",
      "\u001b[0;31mTypeError\u001b[0m: create_contourplot() got an unexpected keyword argument 'end_time'"
     ]
    }
   ],
   "source": [
    "nrows_ncols = (1,2)\n",
    "plot_dict = {\n",
    "    \"density\"    : data_dict[\"density\"],\n",
    "    \"mach_number\": np.clip(data_dict[\"mach_number\"] * data_dict[\"mask_real\"], 0.0, 3.0),\n",
    "    \"schlieren\"  : np.clip(data_dict[\"schlieren\"] * data_dict[\"mask_real\"], 1e0, 5e2)}\n",
    "create_contourplot(plot_dict, cell_centers, times, nrows_ncols=nrows_ncols, plane=\"xy\", interval=100, static_time=0.01)"
   ]
  },
  {
   "cell_type": "code",
   "execution_count": null,
   "id": "72678310",
   "metadata": {},
   "outputs": [],
   "source": []
  }
 ],
 "metadata": {
  "kernelspec": {
   "display_name": "Python 3 (ipykernel)",
   "language": "python",
   "name": "python3"
  },
  "language_info": {
   "codemirror_mode": {
    "name": "ipython",
    "version": 3
   },
   "file_extension": ".py",
   "mimetype": "text/x-python",
   "name": "python",
   "nbconvert_exporter": "python",
   "pygments_lexer": "ipython3",
   "version": "3.8.8"
  }
 },
 "nbformat": 4,
 "nbformat_minor": 5
}
